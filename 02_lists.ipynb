{
  "nbformat": 4,
  "nbformat_minor": 0,
  "metadata": {
    "colab": {
      "provenance": [],
      "authorship_tag": "ABX9TyMWo2g75XFSPUsZRyQYIOgk",
      "include_colab_link": true
    },
    "kernelspec": {
      "name": "python3",
      "display_name": "Python 3"
    },
    "language_info": {
      "name": "python"
    }
  },
  "cells": [
    {
      "cell_type": "markdown",
      "metadata": {
        "id": "view-in-github",
        "colab_type": "text"
      },
      "source": [
        "<a href=\"https://colab.research.google.com/github/rabiasohail098/assign-4/blob/main/02_lists.ipynb\" target=\"_parent\"><img src=\"https://colab.research.google.com/assets/colab-badge.svg\" alt=\"Open In Colab\"/></a>"
      ]
    },
    {
      "cell_type": "code",
      "execution_count": null,
      "metadata": {
        "colab": {
          "base_uri": "https://localhost:8080/"
        },
        "id": "d64_0aULUE2Q",
        "outputId": "8dc6a478-5388-46e0-d50d-1d229c3c64ea"
      },
      "outputs": [
        {
          "output_type": "stream",
          "name": "stdout",
          "text": [
            "01_add_many_number\n",
            "21\n"
          ]
        }
      ],
      "source": [
        "print(\"01_add_many_number\")\n",
        "\n",
        "def add_numbers(numbers)->int:\n",
        "  num:int = 0\n",
        "  for n in numbers:\n",
        "    num += n\n",
        "\n",
        "  return num\n",
        "\n",
        "def main():\n",
        "  numbers:list[int] = [1,2,3,4,5,6]\n",
        "  sum:int = add_numbers(numbers)\n",
        "  print(sum)\n",
        "\n",
        "if __name__ == \"__main__\":\n",
        "    main()"
      ]
    },
    {
      "cell_type": "code",
      "source": [
        "print(\"02_double_list\")\n",
        "\n",
        "def main():\n",
        "  numbers:list[int] =[1,2,3,4,5]\n",
        "  for i in range(len(numbers)):\n",
        "    index = numbers[i]\n",
        "    numbers[i] = index * 2\n",
        "  print(numbers)\n",
        "\n",
        "if __name__ == \"__main__\":\n",
        "  main()"
      ],
      "metadata": {
        "colab": {
          "base_uri": "https://localhost:8080/"
        },
        "id": "a0jwiwlPVwCL",
        "outputId": "8e2f6f90-bff2-465f-cf0b-6288ebc4086f"
      },
      "execution_count": null,
      "outputs": [
        {
          "output_type": "stream",
          "name": "stdout",
          "text": [
            "02_double_list\n",
            "[2, 4, 6, 8, 10]\n"
          ]
        }
      ]
    },
    {
      "cell_type": "code",
      "source": [
        "print(\"04_flowing_with_data_structures\")\n",
        "\n",
        "def add_copies(my_list,data):\n",
        "  for i in range(3):\n",
        "    my_list.append(data)\n",
        "\n",
        "def main():\n",
        "  message = input(\"Enter a message to copy: \")\n",
        "  my_list = []\n",
        "  print(\"List before:\",my_list)\n",
        "  add_copies(my_list,message)\n",
        "  print(\"List after:\",my_list)\n",
        "\n",
        "if __name__ == \"__main__\":\n",
        "  main()"
      ],
      "metadata": {
        "colab": {
          "base_uri": "https://localhost:8080/"
        },
        "id": "iXzYgmFuY4BM",
        "outputId": "8e9d1b9b-67b5-45e9-9379-db26a5826679"
      },
      "execution_count": null,
      "outputs": [
        {
          "output_type": "stream",
          "name": "stdout",
          "text": [
            "04_flowing_with_data_structures\n",
            "Enter a message to copy: hello pakistan\n",
            "List before: []\n",
            "List after: ['hello pakistan', 'hello pakistan', 'hello pakistan']\n"
          ]
        }
      ]
    },
    {
      "cell_type": "code",
      "source": [
        "print(\"05_get_first_element\")\n",
        "\n",
        "def get__first_element(lst):\n",
        "  print(lst[0])\n",
        "\n",
        "def get_lst():\n",
        "  lst = []\n",
        "  element:str = input(\"Enter an element to add to the list: \")\n",
        "  while element != \"\":\n",
        "    lst.append(element)\n",
        "    return lst\n",
        "\n",
        "def main():\n",
        "  lst = get_lst()\n",
        "  get__first_element(lst)\n",
        "\n",
        "if __name__ == \"__main__\":\n",
        "  main()"
      ],
      "metadata": {
        "colab": {
          "base_uri": "https://localhost:8080/"
        },
        "id": "aR28zjphawC8",
        "outputId": "a584272f-a8b2-4f3a-a5be-587fdc1ca7ed"
      },
      "execution_count": null,
      "outputs": [
        {
          "output_type": "stream",
          "name": "stdout",
          "text": [
            "05_get_first_element\n",
            "Enter an element to add to the list: abc\n",
            "abc\n"
          ]
        }
      ]
    },
    {
      "cell_type": "code",
      "source": [
        "print(\"06_get_last_element\")\n",
        "\n",
        "def get_last_element(lst):\n",
        "  print(lst[-1])\n",
        "\n",
        "def main():\n",
        "  lst = [1,2,3,4,5]\n",
        "  get_last_element(lst)\n",
        "\n",
        "if __name__ == \"__main__\":\n",
        "  main()"
      ],
      "metadata": {
        "colab": {
          "base_uri": "https://localhost:8080/"
        },
        "id": "XJ-EUeTSiZl6",
        "outputId": "bd758b77-9af7-42bf-8bfa-b24009ac0699"
      },
      "execution_count": null,
      "outputs": [
        {
          "output_type": "stream",
          "name": "stdout",
          "text": [
            "06_get_last_element\n",
            "5\n"
          ]
        }
      ]
    },
    {
      "cell_type": "code",
      "source": [],
      "metadata": {
        "id": "GG3PNHKomTXA"
      },
      "execution_count": null,
      "outputs": []
    },
    {
      "cell_type": "code",
      "source": [
        "print(\"07_get_list\")\n",
        "\n",
        "def main():\n",
        "  lst = []\n",
        "  val = input(\"Enter a value to add to the list: \")\n",
        "  while val:\n",
        "    lst.append(val)\n",
        "    val = input(\"Enter a value to add to the list: \")\n",
        "  print(\"Here is the list: \", lst)\n",
        "\n",
        "if __name__ == \"__main__\":\n",
        "  main()"
      ],
      "metadata": {
        "colab": {
          "base_uri": "https://localhost:8080/"
        },
        "id": "oP747e6omCuA",
        "outputId": "3f37a95c-c174-4d3a-d88a-d7798736087c"
      },
      "execution_count": null,
      "outputs": [
        {
          "output_type": "stream",
          "name": "stdout",
          "text": [
            "07_get_list\n",
            "Enter a value to add to the list: 2\n",
            "Enter a value to add to the list: 5\n",
            "Enter a value to add to the list: 7\n",
            "Enter a value to add to the list: 4\n",
            "Enter a value to add to the list: \n",
            "Here is the list:  ['2', '5', '7', '4']\n"
          ]
        }
      ]
    },
    {
      "cell_type": "code",
      "source": [
        "print(\"08_shorten\")\n",
        "\n",
        "MAX_LENGTH:int = 3\n",
        "def shorten(lst):\n",
        "  while len(lst) > MAX_LENGTH:\n",
        "    last_element = lst.pop()\n",
        "    print(last_element)\n",
        "\n",
        "def get_lst():\n",
        "  lst = []\n",
        "  element = input(\"Enter an element to add to the list: \")\n",
        "  while element != \"\":\n",
        "    lst.append(element)\n",
        "    element = input(\"Enter an element to add to the list: \")\n",
        "  return lst\n",
        "\n",
        "def main():\n",
        "  lst = get_lst()\n",
        "  shorten(lst)\n",
        "\n",
        "if __name__ == \"__main__\":\n",
        "  main()"
      ],
      "metadata": {
        "colab": {
          "base_uri": "https://localhost:8080/"
        },
        "id": "p92qpyDUvyUx",
        "outputId": "1eb6445d-4cdc-4c9b-f0c9-3a3c4fe1b590"
      },
      "execution_count": 25,
      "outputs": [
        {
          "output_type": "stream",
          "name": "stdout",
          "text": [
            "08_shorten\n",
            "Enter an element to add to the list: fgh\n",
            "Enter an element to add to the list: uio\n",
            "Enter an element to add to the list: vgy\n",
            "Enter an element to add to the list: ert\n",
            "Enter an element to add to the list: bhi\n",
            "Enter an element to add to the list: uio\n",
            "Enter an element to add to the list: \n",
            "uio\n",
            "bhi\n",
            "ert\n"
          ]
        }
      ]
    }
  ]
}